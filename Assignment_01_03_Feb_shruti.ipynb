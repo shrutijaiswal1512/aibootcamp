{
 "cells": [
  {
   "cell_type": "code",
   "execution_count": 2,
   "id": "55542e50-5e4f-4293-a4ff-a12e11e8fd3e",
   "metadata": {},
   "outputs": [
    {
     "name": "stdout",
     "output_type": "stream",
     "text": [
      "Hello, World!\n",
      "!dlroW ,olleH\n"
     ]
    }
   ],
   "source": [
    "# This Is programmFor to Print String In Reverse Order \n",
    "\n",
    "input_string = \"Hello, World!\"\n",
    "print( input_string)\n",
    "reversed_string = input_string[::-1]\n",
    "print( reversed_string)\n"
   ]
  },
  {
   "cell_type": "code",
   "execution_count": 4,
   "id": "4cdfdb7a-5ebb-4700-a633-3fcd3131f3dc",
   "metadata": {},
   "outputs": [
    {
     "name": "stdout",
     "output_type": "stream",
     "text": [
      "Random Numbers: [69, 78, 35, 65, 40, 44, 30, 49, 32, 43]\n",
      "Even Numbers: [78, 40, 44, 30, 32]\n"
     ]
    }
   ],
   "source": [
    "# This Is Programmefor To Pic Randaom Numners and even Numbers\n",
    "import random\n",
    "random_numbers = [random.randint(1, 100) for _ in range(10)]\n",
    "print(\"Random Numbers:\", random_numbers)\n",
    "even_numbers = [num for num in random_numbers if num % 2 == 0]\n",
    "print(\"Even Numbers:\", even_numbers)\n"
   ]
  },
  {
   "cell_type": "code",
   "execution_count": null,
   "id": "fde1918a-1f49-4ae9-8325-5c2f939c8428",
   "metadata": {},
   "outputs": [],
   "source": []
  }
 ],
 "metadata": {
  "kernelspec": {
   "display_name": "Python [conda env:base] *",
   "language": "python",
   "name": "conda-base-py"
  },
  "language_info": {
   "codemirror_mode": {
    "name": "ipython",
    "version": 3
   },
   "file_extension": ".py",
   "mimetype": "text/x-python",
   "name": "python",
   "nbconvert_exporter": "python",
   "pygments_lexer": "ipython3",
   "version": "3.12.7"
  }
 },
 "nbformat": 4,
 "nbformat_minor": 5
}
